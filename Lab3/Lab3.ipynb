{
 "cells": [
  {
   "cell_type": "code",
   "execution_count": 1,
   "id": "98a05497",
   "metadata": {},
   "outputs": [
    {
     "name": "stdout",
     "output_type": "stream",
     "text": [
      "Количество файлов в C:/Users/user/Desktop/PYthON и подкаталогах: 9\n"
     ]
    }
   ],
   "source": [
    "from tkinter import filedialog\n",
    "import os.path\n",
    "fold = filedialog.askdirectory()                   #диалоговое окно выбора папки\n",
    "i=0\n",
    "for path, dirs, files in os.walk(fold):            #обход выбранной директории\n",
    "    for fname in files:\n",
    "        i+=1\n",
    "print(\"Количество файлов в \"+fold+\" и подкаталогах: \"+str(i))"
   ]
  },
  {
   "cell_type": "code",
   "execution_count": 1,
   "id": "46b60a0d",
   "metadata": {},
   "outputs": [
    {
     "name": "stdout",
     "output_type": "stream",
     "text": [
      "Начальный список:\n",
      " №                                 ФИО               e-mail  Группа\n",
      " 1            Селезнева Мария Глебовна g0orc3x1@outlook.com       1\n",
      " 2           Сахарова Ева Владимировна      rv7bp@gmail.com       1\n",
      " 3        Сафонова Мария Александровна       93@outlook.com       3\n",
      " 4 Кузнецова Александра Константиновна         er@gmail.com       4\n",
      " 5          Матвеев Николай Тимофеевич       o0my@gmail.com       2\n",
      " 6          Харитонова Сафия Артёмовна    715qy08@gmail.com       2\n",
      " 7             Панкова Алия Богдановна       vubx0t@mail.ru       3\n",
      " 8          Устинова Малика Богдановна  wnhborq@outlook.com       1\n",
      " 9       Суханов Василий Александрович         gq@yandex.ru       4\n",
      "10           Захарова Алиса Алексеевна    ic0pu@outlook.com       1\n",
      "\n",
      "Отсортированный по фамилиям:\n",
      " №                                 ФИО               e-mail  Группа\n",
      "10           Захарова Алиса Алексеевна    ic0pu@outlook.com       1\n",
      " 4 Кузнецова Александра Константиновна         er@gmail.com       4\n",
      " 5          Матвеев Николай Тимофеевич       o0my@gmail.com       2\n",
      " 7             Панкова Алия Богдановна       vubx0t@mail.ru       3\n",
      " 3        Сафонова Мария Александровна       93@outlook.com       3\n",
      " 2           Сахарова Ева Владимировна      rv7bp@gmail.com       1\n",
      " 1            Селезнева Мария Глебовна g0orc3x1@outlook.com       1\n",
      " 9       Суханов Василий Александрович         gq@yandex.ru       4\n",
      " 8          Устинова Малика Богдановна  wnhborq@outlook.com       1\n",
      " 6          Харитонова Сафия Артёмовна    715qy08@gmail.com       2\n",
      "\n",
      "Отсортированный по группам:\n",
      " №                                 ФИО               e-mail  Группа\n",
      "10           Захарова Алиса Алексеевна    ic0pu@outlook.com       1\n",
      " 2           Сахарова Ева Владимировна      rv7bp@gmail.com       1\n",
      " 1            Селезнева Мария Глебовна g0orc3x1@outlook.com       1\n",
      " 8          Устинова Малика Богдановна  wnhborq@outlook.com       1\n",
      " 5          Матвеев Николай Тимофеевич       o0my@gmail.com       2\n",
      " 6          Харитонова Сафия Артёмовна    715qy08@gmail.com       2\n",
      " 7             Панкова Алия Богдановна       vubx0t@mail.ru       3\n",
      " 3        Сафонова Мария Александровна       93@outlook.com       3\n",
      " 4 Кузнецова Александра Константиновна         er@gmail.com       4\n",
      " 9       Суханов Василий Александрович         gq@yandex.ru       4\n",
      "\n",
      "Отсортированный по e-mail, содержащему @gmail.com:\n",
      " №                                 ФИО            e-mail  Группа\n",
      " 2           Сахарова Ева Владимировна   rv7bp@gmail.com       1\n",
      " 5          Матвеев Николай Тимофеевич    o0my@gmail.com       2\n",
      " 6          Харитонова Сафия Артёмовна 715qy08@gmail.com       2\n",
      " 4 Кузнецова Александра Константиновна      er@gmail.com       4\n",
      "\n",
      "Сохранить список отсортированный по:\n",
      "    0. номеру(№)\n",
      "    1. фамилиям\n",
      "    2. e-mail\n",
      "    3. группам \n",
      "\n",
      "0\n"
     ]
    }
   ],
   "source": [
    "import pandas as pd\n",
    "csvData = pd.read_csv(\"data.csv\")\n",
    "#сортирует список\n",
    "def sortDict(i):\n",
    "    csvData.sort_values(csvData.columns[i], axis=0, inplace=True) \n",
    "#сохраняет отсортированный список    \n",
    "def saveDict(csvData,isSave):\n",
    "    sortDict(isSave)\n",
    "    csvData.to_csv(\"data.csv\",index=False)\n",
    "   \n",
    "    \n",
    "print(\"Начальный список:\")\n",
    "print(csvData.to_string(index=False))\n",
    "print(\"\\nОтсортированный по фамилиям:\")\n",
    "sortDict(1)\n",
    "print(csvData.to_string(index=False))\n",
    "print(\"\\nОтсортированный по группам:\")\n",
    "sortDict(3)\n",
    "print(csvData.to_string(index=False)) \n",
    "print(\"\\nОтсортированный по e-mail, содержащему @gmail.com:\")\n",
    "df=pd.DataFrame(csvData)\n",
    "print(df[df['e-mail'].str.contains('gmail.com')].to_string(index=False))\n",
    "\n",
    "print('\\nСохранить список отсортированный по:\\n    0. номеру(№)\\n    1. фамилиям\\n    2. e-mail\\n    3. группам \\n')\n",
    "isSave=int(input())\n",
    "if 0<=isSave<=3:\n",
    "    saveDict(csvData,isSave)"
   ]
  }
 ],
 "metadata": {
  "kernelspec": {
   "display_name": "Python 3 (ipykernel)",
   "language": "python",
   "name": "python3"
  },
  "language_info": {
   "codemirror_mode": {
    "name": "ipython",
    "version": 3
   },
   "file_extension": ".py",
   "mimetype": "text/x-python",
   "name": "python",
   "nbconvert_exporter": "python",
   "pygments_lexer": "ipython3",
   "version": "3.8.2"
  }
 },
 "nbformat": 4,
 "nbformat_minor": 5
}
