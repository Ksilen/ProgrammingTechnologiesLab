{
 "cells": [
  {
   "cell_type": "markdown",
   "id": "c2a1a598",
   "metadata": {},
   "source": [
    "# Задание по варианту\n",
    "№1. Из списка удалить самую длинную цепочку четных элементов.\n",
    "\n",
    "\n",
    "Пример: из списка A[8]: 4 1 4 2 1 2 4 6 должен получиться список A[5]: 4 1 4 2 1\n",
    "(самая длинная цепочка четных чисел включает элементы с 6 по 8: 2 4 6)\n"
   ]
  },
  {
   "cell_type": "markdown",
   "id": "cae63bf3",
   "metadata": {},
   "source": [
    "# Описание реализации\n",
    " Реализация удаления самой длинной цепочки четных элементов из списка содержит 4 функции:\n",
    "* isNum(arr) - Проверяет являются ли символы числами\n",
    "* isEmptyA() - Проверяет на наличие данных в поле ввода, и если их нет создает список случайных чисел\n",
    "* arrWithoutEven(arr) - выводит исходный список и вызывает foo(arr)\n",
    "* foo(arr) - реализует вычисление самой длинной цепочки четных элементов из списка, удаляет её и выводит результат\n",
    " \n",
    "Сначала вызывается isEmptyA(), которое вызывает функцию input(), и в результате хочет узнать: ввел что-нибудь пользователь или нет.\n",
    " Если ввел вызываем isNum(arr), где в тексте ищем все, кроме пробелов,запятых и цифр.\n",
    " Если они там есть пишем о недопустимости таких символов и вновь переходим в isEmptyA(), иначе продолжаем и переходим в arrWithoutEven(arr), который показывает что ввели и пишет некоторый текст, после чего вызывает foo(arr).\n",
    " \n",
    " \n",
    " Если же поле ввода оказалось пустым, в isEmptyA() генерируется 10 случайных чисел,которые минуя isNum(arr) (так как числа сгенерированы наверняка верно, и не содержат символов) сразу переходят в arrWithoutEven(arr),который вызывает foo(arr).\n",
    " \n",
    " В foo() первым делом проверяется поступивший тип данных. Генерируемый тип данных является list, а данные поступившие от пользователя str. Если тип данных str приводим его к списку, удаляя пробелы. \n",
    " \n",
    " \n",
    " Затем перебирая в цикле список находим четные числа. Если находим впервые(isEven=0) то записываем индекс вхождения в списке, и идем по списку дальше, пока не закончатся четные числа, записывая индекс окончания цепочки четных чисел и её длинну. \n",
    " \n",
    " \n",
    " Предыдущий процесс повторяется, и если длина новой цепочки больше длины предыдущей, индексы начала(lastFirstIndex) и конца(lastSecondIndex) переписываются, как и максимальная длина цепочки(lastMaxIndex).\n",
    " \n",
    " По окончании списка проверяется максимальная длина цепочки, и если она больше 0, то есть в ней больше одного элемента, из списка удаляются элементы начиная от \"индекса начала\" до \"индекса конца\". После чего отображается новообразованный список.\n",
    "\n",
    "# Описание возникших затруднений\n",
    " \n",
    " Очень интерсна в Python реализация метода index(). Почему-то хочется, перебирая список(например слова:\"список\"), написать:"
   ]
  },
  {
   "cell_type": "code",
   "execution_count": 57,
   "id": "62959176",
   "metadata": {},
   "outputs": [
    {
     "name": "stdout",
     "output_type": "stream",
     "text": [
      "0\n",
      "1\n",
      "2\n",
      "0\n",
      "4\n",
      "5\n"
     ]
    }
   ],
   "source": [
    "arr='список'\n",
    "for i in arr:\n",
    "    print(arr.index(i))"
   ]
  },
  {
   "cell_type": "markdown",
   "id": "3fac4339",
   "metadata": {},
   "source": [
    "И получить индекс элемента со значением. Но не все так посто, index(i),ищет вхождение элемента сначала, о чем не стоит забывать.\n",
    " \n",
    " Так же порой забывается, что используя метод pop(), удаляется не только элемент списка, но и на то же место встает другой, следующий за ним элемент.  "
   ]
  },
  {
   "cell_type": "code",
   "execution_count": 56,
   "id": "87d7aa24",
   "metadata": {},
   "outputs": [
    {
     "name": "stdout",
     "output_type": "stream",
     "text": [
      "['с', 'п', 'и', 'с', 'о', 'к']\n"
     ]
    }
   ],
   "source": [
    "arr=list('новый список')   \n",
    "for i in range(0,6):\n",
    "    #arr.pop(i)\n",
    "    arr.pop(0)\n",
    "print(arr)        "
   ]
  },
  {
   "cell_type": "markdown",
   "id": "0a13f99c",
   "metadata": {},
   "source": [
    "# Описание альтернативных способов решения\n",
    " В качестве альтернативных способов решения метод  "
   ]
  },
  {
   "cell_type": "code",
   "execution_count": null,
   "id": "c898e1d4",
   "metadata": {},
   "outputs": [],
   "source": [
    "del arr[lastFirstIndex:lastSecondIndex+1]"
   ]
  },
  {
   "cell_type": "markdown",
   "id": "5da25b66",
   "metadata": {},
   "source": [
    "можно заменить на"
   ]
  },
  {
   "cell_type": "code",
   "execution_count": null,
   "id": "e1db311f",
   "metadata": {},
   "outputs": [],
   "source": [
    "for i in range(lastFirstIndex,lastSecondIndex+1):\n",
    "            arr.pop(lastFirstIndex)"
   ]
  },
  {
   "cell_type": "markdown",
   "id": "4b50545d",
   "metadata": {},
   "source": [
    "а так же функцию "
   ]
  },
  {
   "cell_type": "code",
   "execution_count": null,
   "id": "1430889f",
   "metadata": {},
   "outputs": [],
   "source": [
    "def isNum(arr):\n",
    "    if re.search(r'[^, \\d]' , arr):\n",
    "        print(\"Список содержит недопустимые символы...\\n Попробуйте еще раз: \")\n",
    "        isEmptyA();\n",
    "    else: arrWithoutEven(arr)   "
   ]
  },
  {
   "cell_type": "markdown",
   "id": "241c1931",
   "metadata": {},
   "source": [
    "заменить на"
   ]
  },
  {
   "cell_type": "code",
   "execution_count": null,
   "id": "543466b7",
   "metadata": {},
   "outputs": [],
   "source": [
    "def isNum(arr):\n",
    "    isChar=0\n",
    "    for j in arr:\n",
    "        if (j!=',' and j!=' ' and j.isnumeric()==0):\n",
    "            isChar=1\n",
    "            print(\"Список содержит недопустимые символы...\\n Попробуйте еще раз: \")\n",
    "            break\n",
    "    if isChar==1:        \n",
    "        isEmptyA()\n",
    "    else:        \n",
    "        arrWithoutEven(arr)"
   ]
  },
  {
   "cell_type": "markdown",
   "id": "242d3ff4",
   "metadata": {},
   "source": [
    "# Программа\n"
   ]
  },
  {
   "cell_type": "code",
   "execution_count": 62,
   "id": "02ab7eb6",
   "metadata": {},
   "outputs": [
    {
     "name": "stdout",
     "output_type": "stream",
     "text": [
      "Введите массив чисел или нажмите Enter: \n",
      "\n",
      "Исходный cписок:\n",
      "[55, 11, 34, 82, 15, 69, 31, 54, 19, 88]\n",
      "Список после удаления самой длинной цепочки четных чисел: \n",
      "[55, 11, 15, 69, 31, 54, 19, 88]\n"
     ]
    }
   ],
   "source": [
    "import random as r\n",
    "import re\n",
    "\n",
    "def foo(arr):\n",
    "    if isinstance(arr,str): \n",
    "        arr=list(int(i.strip()) for i in re.split(' |,',arr) if i!='')   # Удаляет пробелы, и создает список       \n",
    "    firstIndex,secondIndex,firstI,secondI=0,0,0,0\n",
    "    maxIndex,isEven,lastFirstIndex,lastSecondIndex,lastMaxIndex=0,0,0,0,0\n",
    "    lenArr=len(arr)-1\n",
    "    for i, val in enumerate(arr):  \n",
    "        if val%2==0 and i!=lenArr:\n",
    "            if isEven==0:         #если четное и isEven==0 добавить первый индекс\n",
    "                firstIndex=i\n",
    "                isEven=1     \n",
    "            else:\n",
    "                secondIndex=i \n",
    "        else:\n",
    "            if i==lenArr and val%2==0 and isEven==1:\n",
    "                 secondIndex=i               #если последний символ четный \n",
    "            isEven=0\n",
    "            maxIndex=secondIndex-firstIndex\n",
    "            if maxIndex>lastMaxIndex:\n",
    "                lastMaxIndex=maxIndex\n",
    "                lastFirstIndex=firstIndex\n",
    "                lastSecondIndex=secondIndex\n",
    "    if lastMaxIndex>0:                        \n",
    "        del arr[lastFirstIndex:lastSecondIndex+1]\n",
    "    print(arr)                                                          \n",
    "    \n",
    "#Вывод конечного результата        \n",
    "def arrWithoutEven(arr): \n",
    "    print(\"Исходный cписок:\") \n",
    "    print(arr)\n",
    "    print(\"Список после удаления самой длинной цепочки четных чисел: \") \n",
    "    foo(arr)   \n",
    "          \n",
    "#Проверяем пустые данные или нет,\n",
    "#и если пустые забивает random числами     \n",
    "def isEmptyA():\n",
    "    arr=input()\n",
    "    if arr==\"\": \n",
    "        arr=[r.randint(0,100) for arr in range(10)] \n",
    "        arrWithoutEven(arr)\n",
    "    else: isNum(arr)\n",
    "        \n",
    "#Проверяет являются ли символы числами               \n",
    "def isNum(arr):\n",
    "    if re.search(r'[^, \\d]' , arr):\n",
    "        print(\"Список содержит недопустимые символы...\\n Попробуйте еще раз: \")\n",
    "        isEmptyA();\n",
    "    else: arrWithoutEven(arr)\n",
    "         \n",
    "#Начало работы программы      \n",
    "print(\"Введите массив чисел или нажмите Enter: \")\n",
    "isEmptyA()\n"
   ]
  },
  {
   "cell_type": "markdown",
   "id": "c35ce5d9",
   "metadata": {},
   "source": [
    " "
   ]
  }
 ],
 "metadata": {
  "kernelspec": {
   "display_name": "Python 3 (ipykernel)",
   "language": "python",
   "name": "python3"
  },
  "language_info": {
   "codemirror_mode": {
    "name": "ipython",
    "version": 3
   },
   "file_extension": ".py",
   "mimetype": "text/x-python",
   "name": "python",
   "nbconvert_exporter": "python",
   "pygments_lexer": "ipython3",
   "version": "3.8.2"
  }
 },
 "nbformat": 4,
 "nbformat_minor": 5
}
