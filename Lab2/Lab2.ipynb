{
 "cells": [
  {
   "cell_type": "code",
   "execution_count": 2,
   "id": "179e5061",
   "metadata": {
    "scrolled": true
   },
   "outputs": [
    {
     "name": "stdout",
     "output_type": "stream",
     "text": [
      "Введите количество строк:7\n",
      "Введите количество столбцов:3\n"
     ]
    }
   ],
   "source": [
    "import random as r\n",
    "import numpy as np\n",
    "\n",
    "N=int(input(\"Введите количество строк:\"))\n",
    "M=int(input(\"Введите количество столбцов:\"))\n",
    "matrixA = [ [0]*M for i in range(N) ]\n",
    "x=0\n",
    "strMatrix=\"\"\n",
    "for i in range(N):\n",
    "    for j in range(M):\n",
    "        matrixA[i][j] = r.randint(-99,99)\n",
    "        if x!=i: \n",
    "            strMatrix+='\\n'\n",
    "            x=i\n",
    "        nM=np.abs(matrixA[i][j])    \n",
    "        if nM<10:    \n",
    "            strMatrix+=(str(nM)+\"     \")\n",
    "        else:\n",
    "            strMatrix+=(str(nM)+\"    \")         \n",
    "file = open(\"Matrix.txt\", \"w\")\n",
    "file.write(\"Исходная матрица абсолютных значений:\\n\\n\")\n",
    "file.write(strMatrix)\n",
    "A=np.abs(matrixA)                                       #так как нужны абсолютные значения(модуль)\n",
    "columnSum = np.sum(A, axis=0)                           #массив  из сумм элементов в столбцах матрицы\n",
    "maxColumnIndex = np.argmax(columnSum)                   #индекс максимального элемента в columnSum\n",
    "At=np.transpose(A)                                      #транспонируем матрицу для поиска по строке\n",
    "maxNum = np.max(At[maxColumnIndex])\n",
    "file.write(\"\\n\\nНаибольший элемент столбца матрицы A (Столбец \"+ str(maxColumnIndex+1)+\" ),\\n\")  \n",
    "file.write(\"для которого сумма абсолютных значений элементов максимальна:\\n\")\n",
    "file.write(str(maxNum))\n",
    "file.close()"
   ]
  },
  {
   "cell_type": "code",
   "execution_count": null,
   "id": "5c2ecff0",
   "metadata": {},
   "outputs": [],
   "source": []
  }
 ],
 "metadata": {
  "kernelspec": {
   "display_name": "Python 3 (ipykernel)",
   "language": "python",
   "name": "python3"
  },
  "language_info": {
   "codemirror_mode": {
    "name": "ipython",
    "version": 3
   },
   "file_extension": ".py",
   "mimetype": "text/x-python",
   "name": "python",
   "nbconvert_exporter": "python",
   "pygments_lexer": "ipython3",
   "version": "3.8.2"
  }
 },
 "nbformat": 4,
 "nbformat_minor": 5
}
