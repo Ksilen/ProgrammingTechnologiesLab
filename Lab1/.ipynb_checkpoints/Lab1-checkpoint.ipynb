{
 "cells": [
  {
   "cell_type": "code",
   "execution_count": 2,
   "id": "40bd381f",
   "metadata": {},
   "outputs": [
    {
     "name": "stdout",
     "output_type": "stream",
     "text": [
      "Введите массив чисел или нажмите Enter: \n",
      "6 6 8 8 0 0 9\n",
      "Исходный cписок:\n",
      "6 6 8 8 0 0 9\n",
      "Список после удаления самой длинной цепочки четных чисел: \n",
      "[9]\n"
     ]
    }
   ],
   "source": [
    "import random as r\n",
    "import re\n",
    "\n",
    "def foo(arr):\n",
    "    if isinstance(arr,str): \n",
    "        arr=list(int(i.strip()) for i in re.split(' |,',arr) if i!='')   # Удаляет пробелы, и создает список       \n",
    "    firstIndex,secondIndex,firstI,secondI=0,0,0,0\n",
    "    maxIndex,isEven,lastFirstIndex,lastSecondIndex,lastMaxIndex=0,0,0,0,0\n",
    "    lenArr=len(arr)-1\n",
    "    for i, val in enumerate(arr):  \n",
    "        if val%2==0 and i!=lenArr:\n",
    "            if isEven==0:         #если четное и isEven==0 добавить первый индекс\n",
    "                firstIndex=i\n",
    "                isEven=1     \n",
    "            else:\n",
    "                secondIndex=i \n",
    "        else:\n",
    "            if i==lenArr and val%2==0 and isEven==1:\n",
    "                 secondIndex=i               #если последний символ четный \n",
    "            isEven=0\n",
    "            maxIndex=secondIndex-firstIndex\n",
    "            if maxIndex>lastMaxIndex:\n",
    "                lastMaxIndex=maxIndex\n",
    "                lastFirstIndex=firstIndex\n",
    "                lastSecondIndex=secondIndex\n",
    "    if lastMaxIndex>0:                        \n",
    "        del arr[lastFirstIndex:lastSecondIndex+1]\n",
    "    print(arr)                                                          \n",
    "    \n",
    "#Вывод конечного результата        \n",
    "def arrWithoutEven(arr): \n",
    "    print(\"Исходный cписок:\") \n",
    "    print(arr)\n",
    "    print(\"Список после удаления самой длинной цепочки четных чисел: \") \n",
    "    foo(arr)   \n",
    "          \n",
    "#Проверяем пустые данные или нет,\n",
    "#и если пустые забивает random числами     \n",
    "def isEmptyA():\n",
    "    arr=input()\n",
    "    if arr==\"\": \n",
    "        arr=[r.randint(0,100) for arr in range(10)] \n",
    "        arrWithoutEven(arr)\n",
    "    else: isNum(arr)\n",
    "        \n",
    "#Проверяет являются ли символы числами               \n",
    "def isNum(arr):\n",
    "    if re.search(r'[^, \\d]' , arr):\n",
    "        print(\"Список содержит недопустимые символы...\\n Попробуйте еще раз: \")\n",
    "        isEmptyA();\n",
    "    else: arrWithoutEven(arr)\n",
    "         \n",
    "#Начало работы программы      \n",
    "print(\"Введите массив чисел или нажмите Enter: \")\n",
    "isEmptyA()\n"
   ]
  },
  {
   "cell_type": "code",
   "execution_count": null,
   "id": "fff2a3b8",
   "metadata": {},
   "outputs": [],
   "source": []
  }
 ],
 "metadata": {
  "kernelspec": {
   "display_name": "Python 3 (ipykernel)",
   "language": "python",
   "name": "python3"
  },
  "language_info": {
   "codemirror_mode": {
    "name": "ipython",
    "version": 3
   },
   "file_extension": ".py",
   "mimetype": "text/x-python",
   "name": "python",
   "nbconvert_exporter": "python",
   "pygments_lexer": "ipython3",
   "version": "3.8.2"
  }
 },
 "nbformat": 4,
 "nbformat_minor": 5
}
